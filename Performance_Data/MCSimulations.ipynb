{
 "cells": [
  {
   "cell_type": "code",
   "execution_count": null,
   "id": "8c867cca-db06-4c10-9ad2-45d83249b813",
   "metadata": {},
   "outputs": [],
   "source": [
    "from MCForecastTools import MCSimulation"
   ]
  },
  {
   "cell_type": "markdown",
   "id": "30a4d563-96aa-4dec-b26d-f4bac6168f03",
   "metadata": {},
   "source": [
    "Joe's Simulation"
   ]
  },
  {
   "cell_type": "code",
   "execution_count": null,
   "id": "74543254-1bd0-462d-9972-846e5558745f",
   "metadata": {},
   "outputs": [],
   "source": [
    "# Set timeframe to '1D'\n",
    "timeframe = \"1D\"\n",
    "\n",
    "# Set start and end datetimes between now and 5 years ago.\n",
    "start_date = pd.Timestamp(\"2018-05-24\", tz=\"America/New_York\").isoformat()\n",
    "end_date = pd.Timestamp(\"2021-05-24\", tz=\"America/New_York\").isoformat()\n",
    "\n",
    "# Set the ticker information\n",
    "tickers = [\"GM\",\"TACO\",\"AUY\",\"WORK\",\"AAPL\"]\n",
    "\n",
    "# Get 5 year's worth of historical price data\n",
    "joes_ticker = api.get_barset(\n",
    "    tickers,\n",
    "    timeframe,\n",
    "    start=start_date,\n",
    "    end=end_date,\n",
    "    limit=1000\n",
    ").df\n",
    "\n",
    "# Display sample data\n",
    "joes_ticker.head()"
   ]
  },
  {
   "cell_type": "code",
   "execution_count": null,
   "id": "37136778-c8c1-4c64-b4a0-39837d9e893e",
   "metadata": {},
   "outputs": [],
   "source": [
    "# Configure a Monte Carlo simulation to forecast twenty years cumulative returns\n",
    "joes_MC_even_dist = MCSimulation(\n",
    "    portfolio_data = joes_ticker,\n",
    "    weights = [.2, .2, .2, .2, .2],\n",
    "    num_simulation = 500,\n",
    "    num_trading_days = 252*20\n",
    ")\n",
    "\n",
    "# Print the simulation input data\n",
    "joes_MC_even_dist.portfolio_data.head()"
   ]
  },
  {
   "cell_type": "code",
   "execution_count": null,
   "id": "038349d5-cd59-4e7b-8ce9-558668acd1e3",
   "metadata": {},
   "outputs": [],
   "source": [
    "# Run a Monte Carlo simulation to forecast twenty years cumulative returns\n",
    "joes_MC_even_dist.calc_cumulative_return()"
   ]
  },
  {
   "cell_type": "code",
   "execution_count": null,
   "id": "0859d2c2-8981-43b6-8404-4a2b1b2d5935",
   "metadata": {},
   "outputs": [],
   "source": [
    "# Plot simulation outcomes\n",
    "joes_line_plot = joes_MC_even_dist.plot_simulation()"
   ]
  },
  {
   "cell_type": "code",
   "execution_count": null,
   "id": "81a765e2-e96d-4e89-981a-333c93e8be19",
   "metadata": {},
   "outputs": [],
   "source": [
    "# Plot probability distribution and confidence intervals\n",
    "joes_dist_plot = joes_MC_even_dist.plot_distribution()"
   ]
  },
  {
   "cell_type": "code",
   "execution_count": null,
   "id": "c1024450-7a9d-4069-a9c5-f1f385657896",
   "metadata": {},
   "outputs": [],
   "source": [
    "# Fetch summary statistics from the Monte Carlo simulation results\n",
    "joes_even_tbl = joes_MC_even_dist.summarize_cumulative_return()\n",
    "\n",
    "# Print summary statistics\n",
    "print(joes_even_tbl)"
   ]
  },
  {
   "cell_type": "code",
   "execution_count": null,
   "id": "b784a479-309c-4b33-b807-b66a2dbbb4a0",
   "metadata": {},
   "outputs": [],
   "source": [
    "# Use the lower and upper `95%` confidence intervals to calculate the range of the possible outcomes of Joe's $30,000 investments in stocks\n",
    "joes_even_ci_lower = round(joes_even_tbl[8]*30000,2)\n",
    "joes_even_ci_upper = round(joes_even_tbl[9]*30000,2)\n",
    "\n",
    "# Print results\n",
    "print(f\"There is a 95% chance that an initial investment of $30,000 in the portfolio\"\n",
    "      f\" over the next 20 years will end within in the range of\"\n",
    "      f\" ${joes_even_ci_lower} and ${joes_even_ci_upper}.\")"
   ]
  },
  {
   "cell_type": "markdown",
   "id": "d2e87b37-a7e8-4726-bcb6-40e7abe42354",
   "metadata": {},
   "source": [
    "Larry's Simulation"
   ]
  },
  {
   "cell_type": "code",
   "execution_count": null,
   "id": "d11c0616-11b3-4d23-88d3-c030fabed77d",
   "metadata": {},
   "outputs": [],
   "source": [
    "# Set timeframe to '1D'\n",
    "timeframe = \"1D\"\n",
    "\n",
    "# Set start and end datetimes between now and 5 years ago.\n",
    "start_date = pd.Timestamp(\"2018-05-24\", tz=\"America/New_York\").isoformat()\n",
    "end_date = pd.Timestamp(\"2021-05-24\", tz=\"America/New_York\").isoformat()\n",
    "\n",
    "# Set the ticker information\n",
    "larrys_tickers = ['AA', 'NIO', 'PFE', 'XOM', 'ZNGA']\n",
    "\n",
    "# Get 5 year's worth of historical price data\n",
    "larrys_ticker = api.get_barset(\n",
    "    larrys_tickers,\n",
    "    timeframe,\n",
    "    start=start_date,\n",
    "    end=end_date,\n",
    "    limit=1000\n",
    ").df\n",
    "\n",
    "# Display sample data\n",
    "larrys_ticker.head()"
   ]
  },
  {
   "cell_type": "code",
   "execution_count": null,
   "id": "1e0be795-a9f0-47e6-b252-8b62dc446c49",
   "metadata": {},
   "outputs": [],
   "source": [
    "larrys_mc = MCSimulation(\n",
    "    portfolio_data = larrys_ticker,\n",
    "    weights = [.2, .2, .2, .2, .2],\n",
    "    num_simulation = 500,\n",
    "    num_trading_days = 252*20)"
   ]
  },
  {
   "cell_type": "code",
   "execution_count": null,
   "id": "c343538d-5969-4678-8cb4-b4e793c15562",
   "metadata": {},
   "outputs": [],
   "source": [
    "# Run a Monte Carlo simulation to forecast five years cumulative returns with 60% AT&T stock\n",
    "larrys_mc.calc_cumulative_return()"
   ]
  },
  {
   "cell_type": "code",
   "execution_count": null,
   "id": "a4616cb7-fa65-4a53-ae68-dd080b67e41d",
   "metadata": {},
   "outputs": [],
   "source": [
    "# Plot simulation outcomes\n",
    "larrys_line_plot = larrys_mc.plot_simulation()"
   ]
  },
  {
   "cell_type": "code",
   "execution_count": null,
   "id": "a01385b9-3fb1-40d8-b5a3-7d12f0ec4cba",
   "metadata": {},
   "outputs": [],
   "source": [
    "# Plot probability distribution and confidence intervals\n",
    "larrys_dist_plot = larrys_mc.plot_distribution()"
   ]
  },
  {
   "cell_type": "code",
   "execution_count": null,
   "id": "46b6911e-2686-409f-9ebd-c407526f2709",
   "metadata": {},
   "outputs": [],
   "source": [
    "# Fetch summary statistics from the Monte Carlo simulation results\n",
    "larry_tbl = larrys_mc.summarize_cumulative_return()\n",
    "\n",
    "# Print summary statistics\n",
    "print(larry_tbl)"
   ]
  },
  {
   "cell_type": "code",
   "execution_count": null,
   "id": "9a777b50-5f81-4140-aae6-d0b9b5633bc8",
   "metadata": {},
   "outputs": [],
   "source": [
    "# Use the lower and upper `95%` confidence intervals to calculate the range of the possible outcomes of Larry's $10,000 investments\n",
    "larry_ci_lower = round(larry_tbl[8]*10000,2)\n",
    "larry_ci_upper = round(larry_tbl[9]*10000,2)\n",
    "\n",
    "# Print results\n",
    "print(f\"There is a 95% chance that an initial investment of $10,000 in the portfolio\"\n",
    "      f\" over the next 5 years will end within in the range of\"\n",
    "      f\" ${larry_ci_lower} and ${larry_ci_upper}.\")"
   ]
  }
 ],
 "metadata": {
  "kernelspec": {
   "display_name": "Python 3",
   "language": "python",
   "name": "python3"
  },
  "language_info": {
   "codemirror_mode": {
    "name": "ipython",
    "version": 3
   },
   "file_extension": ".py",
   "mimetype": "text/x-python",
   "name": "python",
   "nbconvert_exporter": "python",
   "pygments_lexer": "ipython3",
   "version": "3.8.5"
  }
 },
 "nbformat": 4,
 "nbformat_minor": 5
}
